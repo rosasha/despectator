{
 "cells": [
  {
   "cell_type": "code",
   "execution_count": 1,
   "metadata": {
    "ExecuteTime": {
     "end_time": "2021-01-27T13:34:04.400867Z",
     "start_time": "2021-01-27T13:33:57.980794Z"
    }
   },
   "outputs": [],
   "source": [
    "import pandas as pd\n",
    "import numpy as np\n",
    "import matplotlib.pyplot as plt\n",
    "import seaborn as sns\n",
    "import IPython.display\n",
    "%matplotlib inline\n",
    "\n",
    "from sklearn.pipeline import Pipeline\n",
    "from sklearn.compose import ColumnTransformer\n",
    "\n",
    "from sklearn.impute import SimpleImputer\n",
    "\n",
    "from sklearn.preprocessing import StandardScaler, RobustScaler, MinMaxScaler, OneHotEncoder, PolynomialFeatures, LabelEncoder\n",
    "from sklearn.tree import DecisionTreeClassifier\n",
    "\n",
    "from sklearn.multioutput import MultiOutputClassifier\n",
    "from sklearn.neighbors import KNeighborsClassifier\n",
    "from sklearn.linear_model import LinearRegression, ElasticNet\n",
    "from sklearn.ensemble import RandomForestClassifier\n",
    "\n",
    "from sklearn.model_selection import GridSearchCV\n",
    "\n",
    "from sklearn.metrics import accuracy_score, f1_score, precision_score, recall_score, classification_report, confusion_matrix\n",
    "from sklearn.metrics import precision_recall_fscore_support as score\n",
    "\n",
    "from sklearn.model_selection import train_test_split\n",
    "\n",
    "from imblearn.over_sampling import RandomOverSampler  # балансировка классов\n",
    "from collections import Counter\n",
    "\n",
    "import seaborn as sns"
   ]
  },
  {
   "cell_type": "markdown",
   "metadata": {},
   "source": [
    "### Начало!!"
   ]
  },
  {
   "cell_type": "code",
   "execution_count": 2,
   "metadata": {
    "ExecuteTime": {
     "end_time": "2021-01-27T13:34:12.718371Z",
     "start_time": "2021-01-27T13:34:12.584412Z"
    }
   },
   "outputs": [],
   "source": [
    "#df = pd.read_csv('post_07_10_2020_1.csv', sep=';')\n",
    "df = pd.read_csv('post_18_12_2020.csv', sep=';')"
   ]
  },
  {
   "cell_type": "code",
   "execution_count": 3,
   "metadata": {
    "ExecuteTime": {
     "end_time": "2021-01-27T13:35:21.381415Z",
     "start_time": "2021-01-27T13:35:21.307438Z"
    },
    "scrolled": true
   },
   "outputs": [
    {
     "data": {
      "text/html": [
       "<div>\n",
       "<style scoped>\n",
       "    .dataframe tbody tr th:only-of-type {\n",
       "        vertical-align: middle;\n",
       "    }\n",
       "\n",
       "    .dataframe tbody tr th {\n",
       "        vertical-align: top;\n",
       "    }\n",
       "\n",
       "    .dataframe thead th {\n",
       "        text-align: right;\n",
       "    }\n",
       "</style>\n",
       "<table border=\"1\" class=\"dataframe\">\n",
       "  <thead>\n",
       "    <tr style=\"text-align: right;\">\n",
       "      <th></th>\n",
       "      <th>N</th>\n",
       "      <th>Артикул</th>\n",
       "      <th>Код характеристики</th>\n",
       "      <th>Группа номенклатуры</th>\n",
       "      <th>Основной поставщик</th>\n",
       "      <th>Ед. изм.</th>\n",
       "      <th>Фасовка айрис</th>\n",
       "      <th>Коэффициент единицы</th>\n",
       "      <th>Средние продажи</th>\n",
       "      <th>Цена продажи</th>\n",
       "      <th>...</th>\n",
       "      <th>Кол-во дискретов в ктр были продажи</th>\n",
       "      <th>Дней пристутств. продаже</th>\n",
       "      <th>Закупка за период</th>\n",
       "      <th>Статус товара Айриса</th>\n",
       "      <th>Категория товара ABC</th>\n",
       "      <th>Категория товара АВС Айриса</th>\n",
       "      <th>Закупочная цена</th>\n",
       "      <th>Коэффициент минимальной поставки излишков</th>\n",
       "      <th>Минимальный остаток</th>\n",
       "      <th>Нормативный остаток</th>\n",
       "    </tr>\n",
       "  </thead>\n",
       "  <tbody>\n",
       "    <tr>\n",
       "      <th>0</th>\n",
       "      <td>1</td>\n",
       "      <td>699065</td>\n",
       "      <td>NaN</td>\n",
       "      <td>Силуэты разные</td>\n",
       "      <td>ВАСИЛИСА ООО</td>\n",
       "      <td>шт</td>\n",
       "      <td>5.0</td>\n",
       "      <td>1.0</td>\n",
       "      <td>0.781</td>\n",
       "      <td>64.0</td>\n",
       "      <td>...</td>\n",
       "      <td>4.0</td>\n",
       "      <td>374</td>\n",
       "      <td>22.0</td>\n",
       "      <td>Удалить</td>\n",
       "      <td>B</td>\n",
       "      <td>C</td>\n",
       "      <td>17.96</td>\n",
       "      <td>NaN</td>\n",
       "      <td>1.0</td>\n",
       "      <td>5.0</td>\n",
       "    </tr>\n",
       "    <tr>\n",
       "      <th>1</th>\n",
       "      <td>2</td>\n",
       "      <td>680157</td>\n",
       "      <td>NaN</td>\n",
       "      <td>Сердца</td>\n",
       "      <td>BOVELACCI S.R.L. (Италия)</td>\n",
       "      <td>шт</td>\n",
       "      <td>10.0</td>\n",
       "      <td>1.0</td>\n",
       "      <td>1.653</td>\n",
       "      <td>63.0</td>\n",
       "      <td>...</td>\n",
       "      <td>7.0</td>\n",
       "      <td>374</td>\n",
       "      <td>147.0</td>\n",
       "      <td>Регулярный</td>\n",
       "      <td>B</td>\n",
       "      <td>A</td>\n",
       "      <td>10.50</td>\n",
       "      <td>NaN</td>\n",
       "      <td>2.0</td>\n",
       "      <td>10.0</td>\n",
       "    </tr>\n",
       "    <tr>\n",
       "      <th>2</th>\n",
       "      <td>3</td>\n",
       "      <td>695153</td>\n",
       "      <td>NaN</td>\n",
       "      <td>Сердца</td>\n",
       "      <td>BOVELACCI S.R.L. (Италия)</td>\n",
       "      <td>шт</td>\n",
       "      <td>10.0</td>\n",
       "      <td>1.0</td>\n",
       "      <td>0.773</td>\n",
       "      <td>29.0</td>\n",
       "      <td>...</td>\n",
       "      <td>6.0</td>\n",
       "      <td>374</td>\n",
       "      <td>201.0</td>\n",
       "      <td>Регулярный</td>\n",
       "      <td>B</td>\n",
       "      <td>C</td>\n",
       "      <td>7.31</td>\n",
       "      <td>NaN</td>\n",
       "      <td>2.0</td>\n",
       "      <td>10.0</td>\n",
       "    </tr>\n",
       "    <tr>\n",
       "      <th>3</th>\n",
       "      <td>4</td>\n",
       "      <td>680158</td>\n",
       "      <td>NaN</td>\n",
       "      <td>Сердца</td>\n",
       "      <td>BOVELACCI S.R.L. (Италия)</td>\n",
       "      <td>шт</td>\n",
       "      <td>5.0</td>\n",
       "      <td>1.0</td>\n",
       "      <td>2.180</td>\n",
       "      <td>101.0</td>\n",
       "      <td>...</td>\n",
       "      <td>5.0</td>\n",
       "      <td>374</td>\n",
       "      <td>236.0</td>\n",
       "      <td>Регулярный</td>\n",
       "      <td>A</td>\n",
       "      <td>A</td>\n",
       "      <td>51.60</td>\n",
       "      <td>NaN</td>\n",
       "      <td>1.0</td>\n",
       "      <td>5.0</td>\n",
       "    </tr>\n",
       "    <tr>\n",
       "      <th>4</th>\n",
       "      <td>5</td>\n",
       "      <td>680160</td>\n",
       "      <td>NaN</td>\n",
       "      <td>Яйца</td>\n",
       "      <td>BOVELACCI S.R.L. (Италия)</td>\n",
       "      <td>шт</td>\n",
       "      <td>10.0</td>\n",
       "      <td>1.0</td>\n",
       "      <td>2.317</td>\n",
       "      <td>28.0</td>\n",
       "      <td>...</td>\n",
       "      <td>6.0</td>\n",
       "      <td>311</td>\n",
       "      <td>887.0</td>\n",
       "      <td>Регулярный</td>\n",
       "      <td>A</td>\n",
       "      <td>A</td>\n",
       "      <td>12.83</td>\n",
       "      <td>NaN</td>\n",
       "      <td>3.0</td>\n",
       "      <td>10.0</td>\n",
       "    </tr>\n",
       "    <tr>\n",
       "      <th>...</th>\n",
       "      <td>...</td>\n",
       "      <td>...</td>\n",
       "      <td>...</td>\n",
       "      <td>...</td>\n",
       "      <td>...</td>\n",
       "      <td>...</td>\n",
       "      <td>...</td>\n",
       "      <td>...</td>\n",
       "      <td>...</td>\n",
       "      <td>...</td>\n",
       "      <td>...</td>\n",
       "      <td>...</td>\n",
       "      <td>...</td>\n",
       "      <td>...</td>\n",
       "      <td>...</td>\n",
       "      <td>...</td>\n",
       "      <td>...</td>\n",
       "      <td>...</td>\n",
       "      <td>...</td>\n",
       "      <td>...</td>\n",
       "      <td>...</td>\n",
       "    </tr>\n",
       "    <tr>\n",
       "      <th>8017</th>\n",
       "      <td>8 018</td>\n",
       "      <td>901404</td>\n",
       "      <td>NaN</td>\n",
       "      <td>Мебель</td>\n",
       "      <td>ВАСИЛИСА ООО</td>\n",
       "      <td>шт</td>\n",
       "      <td>1.0</td>\n",
       "      <td>1.0</td>\n",
       "      <td>0.342</td>\n",
       "      <td>173.0</td>\n",
       "      <td>...</td>\n",
       "      <td>4.0</td>\n",
       "      <td>364</td>\n",
       "      <td>33.0</td>\n",
       "      <td>Удалить</td>\n",
       "      <td>B</td>\n",
       "      <td>C</td>\n",
       "      <td>173.00</td>\n",
       "      <td>NaN</td>\n",
       "      <td>0.0</td>\n",
       "      <td>2.0</td>\n",
       "    </tr>\n",
       "    <tr>\n",
       "      <th>8018</th>\n",
       "      <td>8 019</td>\n",
       "      <td>903487</td>\n",
       "      <td>NaN</td>\n",
       "      <td>Основы для часов</td>\n",
       "      <td>ВАСИЛИСА ООО</td>\n",
       "      <td>шт</td>\n",
       "      <td>1.0</td>\n",
       "      <td>1.0</td>\n",
       "      <td>0.432</td>\n",
       "      <td>205.0</td>\n",
       "      <td>...</td>\n",
       "      <td>4.0</td>\n",
       "      <td>186</td>\n",
       "      <td>117.0</td>\n",
       "      <td>Регулярный</td>\n",
       "      <td>A</td>\n",
       "      <td>B</td>\n",
       "      <td>67.20</td>\n",
       "      <td>NaN</td>\n",
       "      <td>NaN</td>\n",
       "      <td>NaN</td>\n",
       "    </tr>\n",
       "    <tr>\n",
       "      <th>8019</th>\n",
       "      <td>8 020</td>\n",
       "      <td>558426</td>\n",
       "      <td>NaN</td>\n",
       "      <td>Пасхальные заготовки</td>\n",
       "      <td>ВАСИЛИСА ООО</td>\n",
       "      <td>шт</td>\n",
       "      <td>1.0</td>\n",
       "      <td>1.0</td>\n",
       "      <td>1.587</td>\n",
       "      <td>64.0</td>\n",
       "      <td>...</td>\n",
       "      <td>2.0</td>\n",
       "      <td>51</td>\n",
       "      <td>124.0</td>\n",
       "      <td>Ждет решения</td>\n",
       "      <td>B</td>\n",
       "      <td>C</td>\n",
       "      <td>21.00</td>\n",
       "      <td>NaN</td>\n",
       "      <td>NaN</td>\n",
       "      <td>NaN</td>\n",
       "    </tr>\n",
       "    <tr>\n",
       "      <th>8020</th>\n",
       "      <td>8 021</td>\n",
       "      <td>558425</td>\n",
       "      <td>NaN</td>\n",
       "      <td>Пасхальные заготовки</td>\n",
       "      <td>ВАСИЛИСА ООО</td>\n",
       "      <td>шт</td>\n",
       "      <td>1.0</td>\n",
       "      <td>1.0</td>\n",
       "      <td>1.587</td>\n",
       "      <td>64.0</td>\n",
       "      <td>...</td>\n",
       "      <td>2.0</td>\n",
       "      <td>51</td>\n",
       "      <td>142.0</td>\n",
       "      <td>Ждет решения</td>\n",
       "      <td>A</td>\n",
       "      <td>C</td>\n",
       "      <td>21.00</td>\n",
       "      <td>NaN</td>\n",
       "      <td>NaN</td>\n",
       "      <td>NaN</td>\n",
       "    </tr>\n",
       "    <tr>\n",
       "      <th>8021</th>\n",
       "      <td>8 022</td>\n",
       "      <td>558428</td>\n",
       "      <td>NaN</td>\n",
       "      <td>Пасхальные заготовки</td>\n",
       "      <td>ВАСИЛИСА ООО</td>\n",
       "      <td>шт</td>\n",
       "      <td>1.0</td>\n",
       "      <td>1.0</td>\n",
       "      <td>1.587</td>\n",
       "      <td>64.0</td>\n",
       "      <td>...</td>\n",
       "      <td>2.0</td>\n",
       "      <td>44</td>\n",
       "      <td>120.0</td>\n",
       "      <td>Ждет решения</td>\n",
       "      <td>B</td>\n",
       "      <td>C</td>\n",
       "      <td>21.00</td>\n",
       "      <td>NaN</td>\n",
       "      <td>NaN</td>\n",
       "      <td>NaN</td>\n",
       "    </tr>\n",
       "  </tbody>\n",
       "</table>\n",
       "<p>8022 rows × 22 columns</p>\n",
       "</div>"
      ],
      "text/plain": [
       "          N  Артикул  Код характеристики   Группа номенклатуры  \\\n",
       "0         1   699065                 NaN        Силуэты разные   \n",
       "1         2   680157                 NaN                Сердца   \n",
       "2         3   695153                 NaN                Сердца   \n",
       "3         4   680158                 NaN                Сердца   \n",
       "4         5   680160                 NaN                  Яйца   \n",
       "...     ...      ...                 ...                   ...   \n",
       "8017  8 018   901404                 NaN                Мебель   \n",
       "8018  8 019   903487                 NaN      Основы для часов   \n",
       "8019  8 020   558426                 NaN  Пасхальные заготовки   \n",
       "8020  8 021   558425                 NaN  Пасхальные заготовки   \n",
       "8021  8 022   558428                 NaN  Пасхальные заготовки   \n",
       "\n",
       "             Основной поставщик Ед. изм.  Фасовка айрис  Коэффициент единицы  \\\n",
       "0                  ВАСИЛИСА ООО       шт            5.0                  1.0   \n",
       "1     BOVELACCI S.R.L. (Италия)       шт           10.0                  1.0   \n",
       "2     BOVELACCI S.R.L. (Италия)       шт           10.0                  1.0   \n",
       "3     BOVELACCI S.R.L. (Италия)       шт            5.0                  1.0   \n",
       "4     BOVELACCI S.R.L. (Италия)       шт           10.0                  1.0   \n",
       "...                         ...      ...            ...                  ...   \n",
       "8017               ВАСИЛИСА ООО       шт            1.0                  1.0   \n",
       "8018               ВАСИЛИСА ООО       шт            1.0                  1.0   \n",
       "8019               ВАСИЛИСА ООО       шт            1.0                  1.0   \n",
       "8020               ВАСИЛИСА ООО       шт            1.0                  1.0   \n",
       "8021               ВАСИЛИСА ООО       шт            1.0                  1.0   \n",
       "\n",
       "      Средние продажи  Цена продажи  ...  Кол-во дискретов в ктр были продажи  \\\n",
       "0               0.781          64.0  ...                                  4.0   \n",
       "1               1.653          63.0  ...                                  7.0   \n",
       "2               0.773          29.0  ...                                  6.0   \n",
       "3               2.180         101.0  ...                                  5.0   \n",
       "4               2.317          28.0  ...                                  6.0   \n",
       "...               ...           ...  ...                                  ...   \n",
       "8017            0.342         173.0  ...                                  4.0   \n",
       "8018            0.432         205.0  ...                                  4.0   \n",
       "8019            1.587          64.0  ...                                  2.0   \n",
       "8020            1.587          64.0  ...                                  2.0   \n",
       "8021            1.587          64.0  ...                                  2.0   \n",
       "\n",
       "      Дней пристутств. продаже  Закупка за период  Статус товара Айриса  \\\n",
       "0                          374               22.0               Удалить   \n",
       "1                          374              147.0            Регулярный   \n",
       "2                          374              201.0            Регулярный   \n",
       "3                          374              236.0            Регулярный   \n",
       "4                          311              887.0            Регулярный   \n",
       "...                        ...                ...                   ...   \n",
       "8017                       364               33.0               Удалить   \n",
       "8018                       186              117.0            Регулярный   \n",
       "8019                        51              124.0          Ждет решения   \n",
       "8020                        51              142.0          Ждет решения   \n",
       "8021                        44              120.0          Ждет решения   \n",
       "\n",
       "      Категория товара ABC Категория товара АВС Айриса Закупочная цена  \\\n",
       "0                        B                           C           17.96   \n",
       "1                        B                           A           10.50   \n",
       "2                        B                           C            7.31   \n",
       "3                        A                           A           51.60   \n",
       "4                        A                           A           12.83   \n",
       "...                    ...                         ...             ...   \n",
       "8017                     B                           C          173.00   \n",
       "8018                     A                           B           67.20   \n",
       "8019                     B                           C           21.00   \n",
       "8020                     A                           C           21.00   \n",
       "8021                     B                           C           21.00   \n",
       "\n",
       "     Коэффициент минимальной поставки излишков  Минимальный остаток  \\\n",
       "0                                          NaN                  1.0   \n",
       "1                                          NaN                  2.0   \n",
       "2                                          NaN                  2.0   \n",
       "3                                          NaN                  1.0   \n",
       "4                                          NaN                  3.0   \n",
       "...                                        ...                  ...   \n",
       "8017                                       NaN                  0.0   \n",
       "8018                                       NaN                  NaN   \n",
       "8019                                       NaN                  NaN   \n",
       "8020                                       NaN                  NaN   \n",
       "8021                                       NaN                  NaN   \n",
       "\n",
       "      Нормативный остаток  \n",
       "0                     5.0  \n",
       "1                    10.0  \n",
       "2                    10.0  \n",
       "3                     5.0  \n",
       "4                    10.0  \n",
       "...                   ...  \n",
       "8017                  2.0  \n",
       "8018                  NaN  \n",
       "8019                  NaN  \n",
       "8020                  NaN  \n",
       "8021                  NaN  \n",
       "\n",
       "[8022 rows x 22 columns]"
      ]
     },
     "execution_count": 3,
     "metadata": {},
     "output_type": "execute_result"
    }
   ],
   "source": [
    "df"
   ]
  },
  {
   "cell_type": "code",
   "execution_count": null,
   "metadata": {
    "ExecuteTime": {
     "end_time": "2021-01-27T13:11:20.507560Z",
     "start_time": "2021-01-27T13:11:20.481560Z"
    }
   },
   "outputs": [],
   "source": [
    "df[df['Минимальный остаток']==90] # быстрая оценка значений классов:"
   ]
  },
  {
   "cell_type": "code",
   "execution_count": null,
   "metadata": {
    "ExecuteTime": {
     "end_time": "2021-01-27T13:11:22.623560Z",
     "start_time": "2021-01-27T13:11:22.594560Z"
    }
   },
   "outputs": [],
   "source": [
    "df[df['Закупка за период']<0] #быстрая оценка признаков"
   ]
  },
  {
   "cell_type": "code",
   "execution_count": null,
   "metadata": {
    "ExecuteTime": {
     "end_time": "2021-01-22T08:31:12.507949Z",
     "start_time": "2021-01-22T08:31:12.469949Z"
    }
   },
   "outputs": [],
   "source": [
    "df.info()"
   ]
  },
  {
   "cell_type": "markdown",
   "metadata": {
    "ExecuteTime": {
     "end_time": "2020-10-09T13:20:09.107970Z",
     "start_time": "2020-10-09T13:20:09.103970Z"
    }
   },
   "source": [
    "#### Начинаем работу со строками:"
   ]
  },
  {
   "cell_type": "code",
   "execution_count": null,
   "metadata": {
    "ExecuteTime": {
     "end_time": "2021-01-22T08:31:12.580949Z",
     "start_time": "2021-01-22T08:31:12.508949Z"
    }
   },
   "outputs": [],
   "source": [
    "df.drop(['N', 'Артикул', 'Код характеристики', 'Коэффициент минимальной поставки излишков'], axis=1, inplace=True)"
   ]
  },
  {
   "cell_type": "code",
   "execution_count": null,
   "metadata": {
    "ExecuteTime": {
     "end_time": "2021-01-22T08:31:12.630949Z",
     "start_time": "2021-01-22T08:31:12.582949Z"
    },
    "scrolled": false
   },
   "outputs": [],
   "source": [
    "df.dropna(subset=['Статус товара Айриса', 'Ед. изм.', 'Фасовка айрис', \n",
    "                  'Коэффициент единицы', 'Цена продажи', 'Закупочная цена'], inplace=True)"
   ]
  },
  {
   "cell_type": "code",
   "execution_count": null,
   "metadata": {
    "ExecuteTime": {
     "end_time": "2021-01-22T08:31:12.696949Z",
     "start_time": "2021-01-22T08:31:12.632949Z"
    }
   },
   "outputs": [],
   "source": [
    "ind_for_drop = df[(df['Средние продажи'].isna() & df['Кол-во сделок'] > 0) | (df['Закупка за период'] < 0)].index #### удалить строчки, в ктр средние продажи = 0, а кол-во сделок> 0\n",
    "df_1 = df.drop(list(ind_for_drop))"
   ]
  },
  {
   "cell_type": "code",
   "execution_count": null,
   "metadata": {
    "ExecuteTime": {
     "end_time": "2021-01-22T08:31:12.718949Z",
     "start_time": "2021-01-22T08:31:12.697949Z"
    }
   },
   "outputs": [],
   "source": [
    "list(ind_for_drop)"
   ]
  },
  {
   "cell_type": "code",
   "execution_count": null,
   "metadata": {
    "ExecuteTime": {
     "end_time": "2021-01-22T08:31:12.872949Z",
     "start_time": "2021-01-22T08:31:12.720949Z"
    },
    "scrolled": false
   },
   "outputs": [],
   "source": [
    "df_1.describe(include='object')"
   ]
  },
  {
   "cell_type": "code",
   "execution_count": null,
   "metadata": {
    "ExecuteTime": {
     "end_time": "2021-01-22T08:31:12.888949Z",
     "start_time": "2021-01-22T08:31:12.873949Z"
    }
   },
   "outputs": [],
   "source": [
    "df_1[['Минимальный остаток', 'Нормативный остаток']]"
   ]
  },
  {
   "cell_type": "code",
   "execution_count": null,
   "metadata": {
    "ExecuteTime": {
     "end_time": "2021-01-22T08:31:12.966949Z",
     "start_time": "2021-01-22T08:31:12.889949Z"
    }
   },
   "outputs": [],
   "source": [
    "# Поиграем с типами данных для targets\n",
    "# df[['Минимальный остаток', 'Нормативный остаток']] = df[['Минимальный остаток', 'Нормативный остаток']].round()\n"
   ]
  },
  {
   "cell_type": "code",
   "execution_count": null,
   "metadata": {
    "ExecuteTime": {
     "end_time": "2021-01-22T08:31:13.274949Z",
     "start_time": "2021-01-22T08:31:12.968949Z"
    }
   },
   "outputs": [],
   "source": [
    "df_1[['Минимальный остаток', 'Нормативный остаток']]"
   ]
  },
  {
   "cell_type": "code",
   "execution_count": null,
   "metadata": {
    "ExecuteTime": {
     "end_time": "2021-01-22T08:31:13.392949Z",
     "start_time": "2021-01-22T08:31:13.275949Z"
    },
    "scrolled": true
   },
   "outputs": [],
   "source": [
    "df_1.describe()"
   ]
  },
  {
   "cell_type": "code",
   "execution_count": null,
   "metadata": {
    "ExecuteTime": {
     "end_time": "2021-01-22T08:31:13.478949Z",
     "start_time": "2021-01-22T08:31:13.393949Z"
    }
   },
   "outputs": [],
   "source": [
    "df_1.info()"
   ]
  },
  {
   "cell_type": "code",
   "execution_count": null,
   "metadata": {
    "ExecuteTime": {
     "end_time": "2021-01-22T08:31:13.526949Z",
     "start_time": "2021-01-22T08:31:13.479949Z"
    }
   },
   "outputs": [],
   "source": [
    "X = df_1.drop(['Минимальный остаток', 'Нормативный остаток'], axis=1)\n",
    "y = df_1.loc[:, ['Минимальный остаток', 'Нормативный остаток']]   # таргет"
   ]
  },
  {
   "cell_type": "code",
   "execution_count": null,
   "metadata": {
    "ExecuteTime": {
     "end_time": "2021-01-22T08:31:13.594949Z",
     "start_time": "2021-01-22T08:31:13.527949Z"
    }
   },
   "outputs": [],
   "source": [
    "y_need = y[df_1['Минимальный остаток'].isna()] # отфильтровываем неизвестные значения МИН\n",
    "X_need = X.loc[list(y_need.index)] \n",
    "\n",
    "y_filter = y.drop(list(y_need.index))      # формируем значения МИН и МАХа на ктр будем обучаться\n",
    "\n",
    "X_filter = X.drop(list(y_need.index))      # формируем соответствующие данные на ктр будем обучаться"
   ]
  },
  {
   "cell_type": "code",
   "execution_count": null,
   "metadata": {
    "ExecuteTime": {
     "end_time": "2021-01-22T08:31:13.639949Z",
     "start_time": "2021-01-22T08:31:13.595949Z"
    }
   },
   "outputs": [],
   "source": [
    "y_filter_min = y_filter['Минимальный остаток']\n",
    "y_filter_max = y_filter['Нормативный остаток']"
   ]
  },
  {
   "cell_type": "code",
   "execution_count": null,
   "metadata": {
    "ExecuteTime": {
     "end_time": "2021-01-22T08:31:13.678949Z",
     "start_time": "2021-01-22T08:31:13.640949Z"
    }
   },
   "outputs": [],
   "source": [
    "y_filter_min.shape\n"
   ]
  },
  {
   "cell_type": "code",
   "execution_count": null,
   "metadata": {
    "ExecuteTime": {
     "end_time": "2021-01-22T08:31:13.725949Z",
     "start_time": "2021-01-22T08:31:13.679949Z"
    }
   },
   "outputs": [],
   "source": [
    "X_filter\n"
   ]
  },
  {
   "cell_type": "code",
   "execution_count": null,
   "metadata": {
    "ExecuteTime": {
     "end_time": "2021-01-22T08:31:13.785949Z",
     "start_time": "2021-01-22T08:31:13.731949Z"
    }
   },
   "outputs": [],
   "source": [
    "y_filter"
   ]
  },
  {
   "cell_type": "markdown",
   "metadata": {},
   "source": [
    "#### Построим гистограммы, чтоб визуально посмотреть на частотное распределение меток классов МИН и МАХ: "
   ]
  },
  {
   "cell_type": "code",
   "execution_count": null,
   "metadata": {
    "ExecuteTime": {
     "end_time": "2021-01-22T08:31:14.842949Z",
     "start_time": "2021-01-22T08:31:13.791949Z"
    }
   },
   "outputs": [],
   "source": [
    "from matplotlib.pyplot import figure\n",
    "figure(num=None, figsize=(14, 6), dpi=80, facecolor='w', edgecolor='k')\n",
    "sns.countplot(x='Минимальный остаток', data=y_filter)\n",
    "plt.xlabel('Мин. остаток', fontsize=12)\n",
    "plt.ylabel('Count', fontsize=13)"
   ]
  },
  {
   "cell_type": "code",
   "execution_count": null,
   "metadata": {
    "ExecuteTime": {
     "end_time": "2021-01-22T08:31:14.857949Z",
     "start_time": "2021-01-22T08:31:14.844949Z"
    },
    "scrolled": true
   },
   "outputs": [],
   "source": [
    "print(y_filter.loc[:, 'Минимальный остаток'].value_counts())\n",
    "len(y_filter.loc[:, 'Минимальный остаток'].value_counts())"
   ]
  },
  {
   "cell_type": "code",
   "execution_count": null,
   "metadata": {
    "ExecuteTime": {
     "end_time": "2021-01-22T08:31:15.540949Z",
     "start_time": "2021-01-22T08:31:14.859949Z"
    }
   },
   "outputs": [],
   "source": [
    "# figure(num=None, figsize=(14, 6), dpi=80, facecolor='w', edgecolor='k')\n",
    "fig,ax = plt.subplots(num=None, figsize=(14, 6), dpi=80, facecolor='w', edgecolor='k')\n",
    "sns.countplot(x='Нормативный остаток', data=y_filter)\n",
    "# plt.axis([0.0, 70])\n",
    "plt.xlabel('Норм. остаток', fontsize=12)\n",
    "plt.ylabel('Count', fontsize=13)\n",
    "#ax.set(xlim=(0, 300))\n",
    "plt.axis([0.0, 25, 0, 1800])\n",
    "#ax.set_xticklabels(range(0,50))\n",
    "plt.show()\n",
    "\n",
    "\n",
    "# figure(num=None, figsize=(14, 6), dpi=80, facecolor='w', edgecolor='k')\n",
    "fig,ax = plt.subplots(num=None, figsize=(14, 6), dpi=80, facecolor='w', edgecolor='k')\n",
    "sns.countplot(x='Нормативный остаток', data=y_filter)\n",
    "# plt.axis([0.0, 70])\n",
    "plt.xlabel('Норм. остаток', fontsize=12)\n",
    "plt.ylabel('Count', fontsize=13)\n",
    "#plt.xticks(y_filter.loc[:, 'Нормативный остаток'])\n",
    "#ax.set(xlim=(0, 100))\n",
    "plt.axis([26, 50, 0, 1800])\n",
    "# ax.set_xticklabels(range(0,50))\n",
    "plt.show()\n"
   ]
  },
  {
   "cell_type": "code",
   "execution_count": null,
   "metadata": {
    "ExecuteTime": {
     "end_time": "2021-01-22T08:31:15.555949Z",
     "start_time": "2021-01-22T08:31:15.544949Z"
    },
    "scrolled": true
   },
   "outputs": [],
   "source": [
    "print(y_filter.loc[:, 'Нормативный остаток'].value_counts())\n",
    "len(y_filter.loc[:, 'Нормативный остаток'].value_counts())"
   ]
  },
  {
   "cell_type": "markdown",
   "metadata": {},
   "source": [
    "### Сделаем балансироваку классов:"
   ]
  },
  {
   "cell_type": "code",
   "execution_count": null,
   "metadata": {
    "ExecuteTime": {
     "end_time": "2021-01-22T08:31:15.614949Z",
     "start_time": "2021-01-22T08:31:15.557949Z"
    }
   },
   "outputs": [],
   "source": [
    "le = LabelEncoder()\n",
    "\n",
    "y_filter_min_le = le.fit_transform(y_filter_min)\n",
    "y_filter_max_le = le.fit_transform(y_filter_max)"
   ]
  },
  {
   "cell_type": "code",
   "execution_count": null,
   "metadata": {
    "ExecuteTime": {
     "end_time": "2021-01-22T08:31:15.806949Z",
     "start_time": "2021-01-22T08:31:15.616949Z"
    }
   },
   "outputs": [],
   "source": [
    "ros = RandomOverSampler(random_state=0)\n",
    "\n",
    "X_resampled_min, y_resampled_min = ros.fit_resample(X_filter, y_filter_min_le)\n",
    "X_resampled_max, y_resampled_max = ros.fit_resample(X_filter, y_filter_max_le)\n"
   ]
  },
  {
   "cell_type": "code",
   "execution_count": null,
   "metadata": {
    "ExecuteTime": {
     "end_time": "2021-01-22T08:31:15.811949Z",
     "start_time": "2021-01-22T08:31:15.807949Z"
    }
   },
   "outputs": [],
   "source": [
    "print(len(X_resampled_min))\n",
    "print(len(X_resampled_max))"
   ]
  },
  {
   "cell_type": "code",
   "execution_count": null,
   "metadata": {
    "ExecuteTime": {
     "end_time": "2021-01-22T08:31:15.897949Z",
     "start_time": "2021-01-22T08:31:15.813949Z"
    },
    "scrolled": true
   },
   "outputs": [],
   "source": [
    "pd.DataFrame(X_resampled_max)\n",
    "#pd.DataFrame(y_resampled_max)"
   ]
  },
  {
   "cell_type": "code",
   "execution_count": null,
   "metadata": {
    "ExecuteTime": {
     "end_time": "2021-01-22T08:31:15.988949Z",
     "start_time": "2021-01-22T08:31:15.899949Z"
    }
   },
   "outputs": [],
   "source": [
    "le.inverse_transform(y_resampled_max)"
   ]
  },
  {
   "cell_type": "code",
   "execution_count": null,
   "metadata": {
    "ExecuteTime": {
     "end_time": "2021-01-22T08:31:16.033949Z",
     "start_time": "2021-01-22T08:31:15.990949Z"
    }
   },
   "outputs": [],
   "source": [
    "pd.DataFrame(le.inverse_transform(y_resampled_max))"
   ]
  },
  {
   "cell_type": "code",
   "execution_count": null,
   "metadata": {
    "ExecuteTime": {
     "end_time": "2021-01-22T08:31:16.101949Z",
     "start_time": "2021-01-22T08:31:16.035949Z"
    }
   },
   "outputs": [],
   "source": [
    "print(sorted(Counter(y_resampled_min).items()))\n",
    "print(sorted(Counter(y_resampled_max).items()))"
   ]
  },
  {
   "cell_type": "code",
   "execution_count": null,
   "metadata": {
    "ExecuteTime": {
     "end_time": "2021-01-22T08:31:16.204949Z",
     "start_time": "2021-01-22T08:31:16.102949Z"
    }
   },
   "outputs": [],
   "source": [
    "# классы сбалансированы, так что (stratify=y_filter) делать не будем\n",
    "X_train_min, X_test_min, y_train_min, y_test_min = train_test_split(\n",
    "    X_resampled_min, y_resampled_min, test_size=0.33, random_state=42\n",
    ")\n",
    "X_train_max, X_test_max, y_train_max, y_test_max = train_test_split(\n",
    "    X_resampled_max, y_resampled_max, test_size=0.33, random_state=42\n",
    ")"
   ]
  },
  {
   "cell_type": "code",
   "execution_count": null,
   "metadata": {
    "ExecuteTime": {
     "end_time": "2021-01-22T08:31:16.232949Z",
     "start_time": "2021-01-22T08:31:16.205949Z"
    }
   },
   "outputs": [],
   "source": [
    "# Начнем трансформировать колонки, в зависимости от типа значений:\n",
    "categorical_features_min = X_train_min.select_dtypes(include=[object])\n",
    "categorical_features_max = X_train_max.select_dtypes(include=[object])"
   ]
  },
  {
   "cell_type": "code",
   "execution_count": null,
   "metadata": {
    "ExecuteTime": {
     "end_time": "2021-01-22T08:31:16.301949Z",
     "start_time": "2021-01-22T08:31:16.233949Z"
    }
   },
   "outputs": [],
   "source": [
    "categorical_features_max"
   ]
  },
  {
   "cell_type": "code",
   "execution_count": null,
   "metadata": {
    "ExecuteTime": {
     "end_time": "2021-01-22T08:31:16.340949Z",
     "start_time": "2021-01-22T08:31:16.307949Z"
    }
   },
   "outputs": [],
   "source": [
    "numerical_features_min = X_train_min.select_dtypes(include=[np.number])\n",
    "numerical_features_max = X_train_max.select_dtypes(include=[np.number])"
   ]
  },
  {
   "cell_type": "code",
   "execution_count": null,
   "metadata": {
    "ExecuteTime": {
     "end_time": "2021-01-22T08:31:16.406949Z",
     "start_time": "2021-01-22T08:31:16.341949Z"
    }
   },
   "outputs": [],
   "source": [
    "numerical_features_max"
   ]
  },
  {
   "cell_type": "code",
   "execution_count": null,
   "metadata": {
    "ExecuteTime": {
     "end_time": "2021-01-22T08:31:16.456949Z",
     "start_time": "2021-01-22T08:31:16.410949Z"
    }
   },
   "outputs": [],
   "source": [
    "y_train_max"
   ]
  },
  {
   "cell_type": "code",
   "execution_count": null,
   "metadata": {
    "ExecuteTime": {
     "end_time": "2021-01-22T08:31:16.522949Z",
     "start_time": "2021-01-22T08:31:16.458949Z"
    }
   },
   "outputs": [],
   "source": [
    "X_train_min.info()"
   ]
  },
  {
   "cell_type": "code",
   "execution_count": null,
   "metadata": {
    "ExecuteTime": {
     "end_time": "2021-01-22T08:31:16.616949Z",
     "start_time": "2021-01-22T08:31:16.523949Z"
    }
   },
   "outputs": [],
   "source": [
    "# будем вставлять 0\n",
    "numerical_features_min_1 = numerical_features_min[\n",
    "    ['Средние продажи', 'Продано всего','Кол-во сделок', 'Кол-во дискретов в ктр были продажи', 'Закупка за период']\n",
    "]         \n",
    "numerical_features_min_2 = numerical_features_min.drop(numerical_features_min_1.columns, axis=1)\n",
    "\n",
    "numerical_features_max_1 = numerical_features_max[\n",
    "    ['Средние продажи', 'Продано всего','Кол-во сделок', 'Кол-во дискретов в ктр были продажи', 'Закупка за период']\n",
    "]         \n",
    "numerical_features_max_2 = numerical_features_max.drop(numerical_features_max_1.columns, axis=1)"
   ]
  },
  {
   "cell_type": "code",
   "execution_count": null,
   "metadata": {
    "ExecuteTime": {
     "end_time": "2021-01-22T08:31:16.676949Z",
     "start_time": "2021-01-22T08:31:16.617949Z"
    }
   },
   "outputs": [],
   "source": [
    "# здесь устанавливаем, что заполняем нулями отсутствующ. значения\n",
    "imp_const = SimpleImputer(missing_values=np.nan, strategy='constant')"
   ]
  },
  {
   "cell_type": "code",
   "execution_count": null,
   "metadata": {
    "ExecuteTime": {
     "end_time": "2021-01-22T08:31:16.728949Z",
     "start_time": "2021-01-22T08:31:16.677949Z"
    }
   },
   "outputs": [],
   "source": [
    "# указываем колонки для трансформации (общие и для мин и для мах):\n",
    "numerical_features_1_col = numerical_features_min_1.columns  # будем вставлять 0 и производить PolynomialFeatures\n",
    "numerical_features_2_col = numerical_features_min_2.columns  # будем только производить PolynomialFeatures\n",
    "categorical_features_col = categorical_features_min.columns  # будем производить OHE\n",
    "\n",
    "# указываем какой препроцессинг будем делать на разных колонках (параметры скалирования зададим непосредств.в grid_search):\n",
    "numerical_transformer_1 = Pipeline(\n",
    "    steps=[\n",
    "        ('imp_const', imp_const),\n",
    "        ('poly', PolynomialFeatures(interaction_only=True,include_bias = False)),\n",
    "        ('scaler', 'passthrough')\n",
    "        ]\n",
    ")\n",
    "numerical_transformer_2 = Pipeline(\n",
    "    steps=[\n",
    "        ('poly', PolynomialFeatures(interaction_only=True,include_bias = False)),\n",
    "        ('scaler', 'passthrough')\n",
    "        ]\n",
    ")\n",
    "categorical_transformer = Pipeline(\n",
    "    steps=[\n",
    "        ('imp_const', imp_const),\n",
    "        ('ОНЕ', OneHotEncoder(sparse=False, handle_unknown='ignore'))\n",
    "        ]\n",
    ")\n",
    "\n",
    "# создаем общий трансформатор:\n",
    "data_transformer = ColumnTransformer(\n",
    "    transformers=[\n",
    "        ('numerical_1', numerical_transformer_1, numerical_features_1_col),\n",
    "        ('numerical_2', numerical_transformer_2, numerical_features_2_col),\n",
    "        ('categorical', categorical_transformer, categorical_features_col)])"
   ]
  },
  {
   "cell_type": "markdown",
   "metadata": {},
   "source": [
    "### Наконец то подошли к классификации!!"
   ]
  },
  {
   "cell_type": "code",
   "execution_count": null,
   "metadata": {
    "ExecuteTime": {
     "end_time": "2021-01-22T08:31:16.795949Z",
     "start_time": "2021-01-22T08:31:16.731949Z"
    }
   },
   "outputs": [],
   "source": [
    "# 1. обратить внимание на балансировку внутри эстиматора....нужна ли она?\n",
    "# 2. стандартизация нужна ли для деревьев и леса...и какая? (вроде для деревьев не нужна стандартизация)\n",
    "# 3. Сейчас включен рандом форест на 5ой версии))"
   ]
  },
  {
   "cell_type": "code",
   "execution_count": null,
   "metadata": {
    "ExecuteTime": {
     "end_time": "2021-01-22T08:31:16.878949Z",
     "start_time": "2021-01-22T08:31:16.798949Z"
    }
   },
   "outputs": [],
   "source": [
    "# DecisionTreeClassifier\n",
    "en_Tree = Pipeline(\n",
    "    steps=[('preprocessor', data_transformer),\n",
    "        ('Tree', DecisionTreeClassifier(random_state=42, class_weight='balanced'))\n",
    "        ]\n",
    ")\n",
    "\n",
    "# RandomForestClassifier\n",
    "en_RF = Pipeline(\n",
    "    steps=[('preprocessor', data_transformer),\n",
    "        ('RF', RandomForestClassifier(random_state=42, class_weight='balanced'))\n",
    "        ]\n",
    ")"
   ]
  },
  {
   "cell_type": "code",
   "execution_count": null,
   "metadata": {
    "ExecuteTime": {
     "end_time": "2021-01-22T08:31:16.940949Z",
     "start_time": "2021-01-22T08:31:16.883949Z"
    }
   },
   "outputs": [],
   "source": [
    "# Создаем сетку поиска\n",
    "\n",
    "# для DecisionTreeClassifier:\n",
    "param_grid_tree = {\n",
    "    'preprocessor__numerical_1__scaler': [StandardScaler()],\n",
    "    'Tree__criterion':['gini','entropy'],\n",
    "    'Tree__max_depth':[4,5,6,7,8,9,10,11,12,15,20,30,40,50,70,90,120,150]\n",
    "}\n",
    "\n",
    "# для RandomForestClassifier:\n",
    "param_grid_rf = {\n",
    "    'preprocessor__numerical_1__scaler': [StandardScaler()],\n",
    "    'RF__criterion':['gini','entropy'],\n",
    "    'RF__max_depth':[4,5,6,7,8,9,10,11,12,15,20,30,40,50,70,90,120,150]\n",
    "}\n"
   ]
  },
  {
   "cell_type": "code",
   "execution_count": null,
   "metadata": {
    "ExecuteTime": {
     "end_time": "2021-01-22T08:31:17.275949Z",
     "start_time": "2021-01-22T08:31:16.942949Z"
    }
   },
   "outputs": [],
   "source": [
    "grid_search_min = GridSearchCV(en_RF, param_grid=param_grid_rf)\n",
    "grid_search_max = GridSearchCV(en_RF, param_grid=param_grid_rf)"
   ]
  },
  {
   "cell_type": "code",
   "execution_count": null,
   "metadata": {
    "ExecuteTime": {
     "end_time": "2021-01-22T08:31:17.352949Z",
     "start_time": "2021-01-22T08:31:17.276949Z"
    }
   },
   "outputs": [],
   "source": [
    "en_RF.get_params().keys()"
   ]
  },
  {
   "cell_type": "code",
   "execution_count": null,
   "metadata": {
    "ExecuteTime": {
     "end_time": "2021-01-22T08:48:02.118949Z",
     "start_time": "2021-01-22T08:31:17.355949Z"
    },
    "scrolled": false
   },
   "outputs": [],
   "source": [
    "grid_min = grid_search_min.fit(X_train_min, y_train_min)"
   ]
  },
  {
   "cell_type": "code",
   "execution_count": null,
   "metadata": {
    "ExecuteTime": {
     "end_time": "2021-01-22T08:48:02.136949Z",
     "start_time": "2021-01-22T08:48:02.119949Z"
    }
   },
   "outputs": [],
   "source": [
    "grid_min.best_params_"
   ]
  },
  {
   "cell_type": "code",
   "execution_count": null,
   "metadata": {
    "ExecuteTime": {
     "end_time": "2021-01-22T09:42:18.731948Z",
     "start_time": "2021-01-22T08:48:02.138949Z"
    }
   },
   "outputs": [],
   "source": [
    "grid_max = grid_search_max.fit(X_train_max, y_train_max)"
   ]
  },
  {
   "cell_type": "code",
   "execution_count": null,
   "metadata": {
    "ExecuteTime": {
     "end_time": "2021-01-22T09:42:18.751948Z",
     "start_time": "2021-01-22T09:42:18.735948Z"
    }
   },
   "outputs": [],
   "source": [
    "grid_max.best_params_"
   ]
  },
  {
   "cell_type": "code",
   "execution_count": null,
   "metadata": {
    "ExecuteTime": {
     "end_time": "2021-01-22T09:42:19.912948Z",
     "start_time": "2021-01-22T09:42:18.756948Z"
    }
   },
   "outputs": [],
   "source": [
    "grid_min.score(X_train_min, y_train_min)"
   ]
  },
  {
   "cell_type": "code",
   "execution_count": null,
   "metadata": {
    "ExecuteTime": {
     "end_time": "2021-01-22T09:42:23.772948Z",
     "start_time": "2021-01-22T09:42:19.915948Z"
    }
   },
   "outputs": [],
   "source": [
    "grid_max.score(X_train_max, y_train_max)"
   ]
  },
  {
   "cell_type": "code",
   "execution_count": null,
   "metadata": {
    "ExecuteTime": {
     "end_time": "2021-01-22T09:42:26.272948Z",
     "start_time": "2021-01-22T09:42:23.773948Z"
    }
   },
   "outputs": [],
   "source": [
    "pred_min = grid_min.predict(X_test_min)\n",
    "pred_max = grid_max.predict(X_test_max)"
   ]
  },
  {
   "cell_type": "code",
   "execution_count": null,
   "metadata": {
    "ExecuteTime": {
     "end_time": "2021-01-22T09:42:26.276948Z",
     "start_time": "2021-01-22T09:42:26.273948Z"
    }
   },
   "outputs": [],
   "source": [
    "# С этого момента уже не сохранилось!!! 28.12.2020\n",
    "# НЕ ЗАБЫТЬ СДЕЛАТЬ ОБРАТНОЕ ПРЕОБРАЗОВАН на  ЛЭЙБЛ!!!!(обратное рпеобразование делать после всех метрик, \n",
    "# иначе будет выдавать ошибку: continuous is not supported)"
   ]
  },
  {
   "cell_type": "code",
   "execution_count": null,
   "metadata": {
    "ExecuteTime": {
     "end_time": "2021-01-22T09:42:26.313948Z",
     "start_time": "2021-01-22T09:42:26.280948Z"
    }
   },
   "outputs": [],
   "source": [
    "frame_min = [\n",
    "    pd.DataFrame(pred_min, columns=['predict']), \n",
    "    pd.DataFrame(y_test_min, columns=['Минимальный остаток']).reset_index(drop=True), X_test_min['Фасовка айрис'].reset_index(drop=True)\n",
    "]\n",
    "frame_max = [\n",
    "    pd.DataFrame(pred_max, columns=['predict']), \n",
    "    pd.DataFrame(y_test_max, columns=['Нормативный остаток']).reset_index(drop=True), X_test_max['Фасовка айрис'].reset_index(drop=True)\n",
    "]\n"
   ]
  },
  {
   "cell_type": "code",
   "execution_count": null,
   "metadata": {
    "ExecuteTime": {
     "end_time": "2021-01-22T09:42:26.340948Z",
     "start_time": "2021-01-22T09:42:26.314948Z"
    }
   },
   "outputs": [],
   "source": [
    "df3_min = pd.concat(frame_min, axis=1)\n",
    "df3_max = pd.concat(frame_max, axis=1)"
   ]
  },
  {
   "cell_type": "code",
   "execution_count": null,
   "metadata": {
    "ExecuteTime": {
     "end_time": "2021-01-22T09:42:26.355948Z",
     "start_time": "2021-01-22T09:42:26.341948Z"
    }
   },
   "outputs": [],
   "source": [
    "df3_min['prophet'] = df3_min['predict']    # 'это только для МИНИМАЛЬНОГО остатка !!!'\n",
    "# df3_max['prophet'] = df3_max[['predict', 'Фасовка айрис']].max(axis=1)    # 'это только для НОРМАТИВНОГО остатка !!!'\n",
    "df3_max['prophet'] = df3_max['predict']"
   ]
  },
  {
   "cell_type": "code",
   "execution_count": null,
   "metadata": {},
   "outputs": [],
   "source": []
  },
  {
   "cell_type": "code",
   "execution_count": null,
   "metadata": {
    "ExecuteTime": {
     "end_time": "2021-01-22T09:42:28.649948Z",
     "start_time": "2021-01-22T09:42:26.359948Z"
    }
   },
   "outputs": [],
   "source": [
    "IPython.display.HTML(df3_max.to_html())"
   ]
  },
  {
   "cell_type": "markdown",
   "metadata": {},
   "source": [
    "#### Посмотрим на метрики:"
   ]
  },
  {
   "cell_type": "code",
   "execution_count": null,
   "metadata": {
    "ExecuteTime": {
     "end_time": "2021-01-22T09:42:28.658948Z",
     "start_time": "2021-01-22T09:42:28.651948Z"
    }
   },
   "outputs": [],
   "source": [
    "accuracy_score(df3_min['Минимальный остаток'], df3_min['prophet'])"
   ]
  },
  {
   "cell_type": "code",
   "execution_count": null,
   "metadata": {
    "ExecuteTime": {
     "end_time": "2021-01-22T09:42:28.697948Z",
     "start_time": "2021-01-22T09:42:28.659948Z"
    }
   },
   "outputs": [],
   "source": [
    "accuracy_score(df3_max['Нормативный остаток'], df3_max['prophet'])"
   ]
  },
  {
   "cell_type": "code",
   "execution_count": null,
   "metadata": {
    "ExecuteTime": {
     "end_time": "2021-01-22T09:42:28.736948Z",
     "start_time": "2021-01-22T09:42:28.699948Z"
    }
   },
   "outputs": [],
   "source": [
    "precision_min, recall_min, fscore_min, support_min = score(df3_min['Минимальный остаток'], df3_min[\"prophet\"])\n",
    "precision_macro_min, recall_macro_min, fscore_macro_min, support_macro_min = score(df3_min['Минимальный остаток'], df3_min[\"prophet\"], average='macro')\n",
    "precision_micro_min, recall_micro_min, fscore_micro_min, support_micro_min = score(df3_min['Минимальный остаток'], df3_min[\"prophet\"], average='micro')\n",
    "\n"
   ]
  },
  {
   "cell_type": "code",
   "execution_count": null,
   "metadata": {
    "ExecuteTime": {
     "end_time": "2021-01-22T09:42:28.856948Z",
     "start_time": "2021-01-22T09:42:28.737948Z"
    }
   },
   "outputs": [],
   "source": [
    "precision_max, recall_max, fscore_max, support_max = score(df3_max['Нормативный остаток'], df3_max[\"prophet\"])\n",
    "precision_macro_max, recall_macro_max, fscore_macro_max, support_macro_max = score(df3_max['Нормативный остаток'], df3_max[\"prophet\"], average='macro')\n",
    "precision_micro_max, recall_micro_max, fscore_micro_max, support_micro_max = score(df3_max['Нормативный остаток'], df3_max[\"prophet\"], average='micro')"
   ]
  },
  {
   "cell_type": "code",
   "execution_count": null,
   "metadata": {
    "ExecuteTime": {
     "end_time": "2021-01-22T09:42:28.918948Z",
     "start_time": "2021-01-22T09:42:28.859948Z"
    },
    "scrolled": true
   },
   "outputs": [],
   "source": [
    "score_precision_min = pd.DataFrame((precision_min.reshape(26, 1)), columns=['precision_min'])\n",
    "score_recall_min = pd.DataFrame((recall_min.reshape(26, 1)), columns=['recall_min'])\n",
    "score_fscore_min = pd.DataFrame((fscore_min.reshape(26, 1)), columns=['fscore_min'])\n",
    "score_support_min = pd.DataFrame((support_min.reshape(26, 1)), columns=['support_min'])\n",
    "for_frame_min = [score_precision_min, score_recall_min, score_fscore_min, score_support_min] \n",
    "score_all_min = pd.concat(for_frame_min, axis=1)\n",
    "score_all_min"
   ]
  },
  {
   "cell_type": "code",
   "execution_count": null,
   "metadata": {
    "ExecuteTime": {
     "end_time": "2021-01-22T09:42:28.997948Z",
     "start_time": "2021-01-22T09:42:28.919948Z"
    },
    "scrolled": true
   },
   "outputs": [],
   "source": [
    "score_precision_max = pd.DataFrame((precision_max.reshape(50, 1)), columns=['precision_max'])\n",
    "score_recall_max = pd.DataFrame((recall_max.reshape(50, 1)), columns=['recall_max'])\n",
    "score_fscore_max = pd.DataFrame((fscore_max.reshape(50, 1)), columns=['fscore_max'])\n",
    "score_support_max = pd.DataFrame((support_max.reshape(50, 1)), columns=['support_max'])\n",
    "for_frame_max = [score_precision_max, score_recall_max, score_fscore_max, score_support_max] \n",
    "score_all_max = pd.concat(for_frame_max, axis=1)\n",
    "score_all_max"
   ]
  },
  {
   "cell_type": "code",
   "execution_count": null,
   "metadata": {
    "ExecuteTime": {
     "end_time": "2021-01-22T09:42:29.042948Z",
     "start_time": "2021-01-22T09:42:28.998948Z"
    }
   },
   "outputs": [],
   "source": [
    "print(f'precision_macro_min={precision_macro_min}, recall_macro_min={recall_macro_min},\\\n",
    " score_macro_min={fscore_macro_min}, support_macro_min={support_macro_min}')"
   ]
  },
  {
   "cell_type": "code",
   "execution_count": null,
   "metadata": {
    "ExecuteTime": {
     "end_time": "2021-01-22T09:42:29.102948Z",
     "start_time": "2021-01-22T09:42:29.046948Z"
    }
   },
   "outputs": [],
   "source": [
    "print(f'precision_macro_max={precision_macro_max}, recall_macro_max={recall_macro_max},\\\n",
    " score_macro_max={fscore_macro_max}, support_macro_max={support_macro_max}')"
   ]
  },
  {
   "cell_type": "code",
   "execution_count": null,
   "metadata": {
    "ExecuteTime": {
     "end_time": "2021-01-22T09:42:29.182948Z",
     "start_time": "2021-01-22T09:42:29.104948Z"
    }
   },
   "outputs": [],
   "source": [
    "print(f'precision_micro_min={precision_micro_min}, recall_micro_min={recall_micro_min},\\\n",
    " score_micro_min={fscore_micro_min}, support_micro_min={support_micro_min}')"
   ]
  },
  {
   "cell_type": "code",
   "execution_count": null,
   "metadata": {
    "ExecuteTime": {
     "end_time": "2021-01-22T09:42:29.248948Z",
     "start_time": "2021-01-22T09:42:29.183948Z"
    }
   },
   "outputs": [],
   "source": [
    "print(f'precision_micro_max={precision_micro_max}, recall_micro_max={recall_micro_max},\\\n",
    " score_micro_max={fscore_micro_max}, support_micro_max={support_micro_max}')"
   ]
  },
  {
   "cell_type": "code",
   "execution_count": null,
   "metadata": {
    "ExecuteTime": {
     "end_time": "2021-01-22T09:42:31.946948Z",
     "start_time": "2021-01-22T09:42:29.251948Z"
    }
   },
   "outputs": [],
   "source": [
    "#plot_confusion_matrix(clf, df3['Минимальный остаток'], df3['prophet'])\n",
    "fig,ax = plt.subplots(num=None, figsize=(13, 10), dpi=80, facecolor='w', edgecolor='k')\n",
    "confusion_matrix = pd.crosstab(df3_min['Минимальный остаток'], df3_min['prophet'],\n",
    "                               rownames=['Минимальный остаток'], colnames=['prophet'])\n",
    "\n",
    "sns.heatmap(confusion_matrix, annot=True, fmt='d', cmap='coolwarm')\n",
    "ax.set_title('confusion_matrix for Минимальный остаток ')\n",
    "plt.show()"
   ]
  },
  {
   "cell_type": "code",
   "execution_count": null,
   "metadata": {
    "ExecuteTime": {
     "end_time": "2021-01-22T09:42:38.913948Z",
     "start_time": "2021-01-22T09:42:31.950948Z"
    }
   },
   "outputs": [],
   "source": [
    "#plot_confusion_matrix(clf, df3['Минимальный остаток'], df3['prophet'])\n",
    "fig,ax = plt.subplots(num=None, figsize=(16, 10), dpi=80, facecolor='w', edgecolor='k')\n",
    "confusion_matrix = pd.crosstab(df3_max['Нормативный остаток'], df3_max['prophet'],\n",
    "                               rownames=['Нормативный остаток'], colnames=['prophet'])\n",
    "\n",
    "sns.heatmap(confusion_matrix, annot=True, fmt='d', cmap='coolwarm')\n",
    "ax.set_title('confusion_matrix for Нормативный остаток')\n",
    "plt.show()"
   ]
  },
  {
   "cell_type": "code",
   "execution_count": null,
   "metadata": {
    "ExecuteTime": {
     "end_time": "2021-01-22T09:42:38.953948Z",
     "start_time": "2021-01-22T09:42:38.917948Z"
    }
   },
   "outputs": [],
   "source": [
    "confusion_matrix"
   ]
  },
  {
   "cell_type": "code",
   "execution_count": null,
   "metadata": {
    "ExecuteTime": {
     "end_time": "2021-01-22T09:42:39.002948Z",
     "start_time": "2021-01-22T09:42:38.956948Z"
    }
   },
   "outputs": [],
   "source": [
    "# ЧТОЬ НЕ ЗАБЫТЬ:\n",
    "\n",
    "## xgb_clf почитать о ней\n",
    "\n",
    "## Где то здесь ошибка: 'KNeighborsClassifier_n_neighbors': [2, 3, 4, 5, 6, 7, 8]\n",
    "## или ('KNeighborsClassifier', MultiOutputClassifier(KNeighborsClassifier()))\n",
    "\n",
    "# clf = MultiOutputClassifier(KNeighborsClassifier()).fit(X, y)\n",
    "\n",
    "# Так же посмотреть "
   ]
  },
  {
   "cell_type": "code",
   "execution_count": null,
   "metadata": {
    "ExecuteTime": {
     "end_time": "2021-01-22T09:42:39.026948Z",
     "start_time": "2021-01-22T09:42:39.003948Z"
    }
   },
   "outputs": [],
   "source": [
    "# 1. Поработать с дисбалансом до testsplit (чтоб заработала стратификация)\n",
    "# 2. Поигарть с метриками как в папке  MIN-MAX\n",
    "# 3. Советуют попробовать так же MSE метрику (настойчиво советуют)\n",
    "# 4. Добавить колонку  минимальный остаток, чтоб понимать по каким мин у нас проваливаются метрики\n",
    "# 5. Может сравнение все же делать с данными без балансировки??"
   ]
  },
  {
   "cell_type": "code",
   "execution_count": null,
   "metadata": {
    "ExecuteTime": {
     "end_time": "2021-01-22T09:42:39.039948Z",
     "start_time": "2021-01-22T09:42:39.027948Z"
    }
   },
   "outputs": [],
   "source": [
    "##rfmSegmentation.to_csv('rfm-table_mark.csv', sep=';')"
   ]
  },
  {
   "cell_type": "code",
   "execution_count": null,
   "metadata": {
    "ExecuteTime": {
     "end_time": "2021-01-22T09:42:39.070948Z",
     "start_time": "2021-01-22T09:42:39.040948Z"
    }
   },
   "outputs": [],
   "source": [
    "score_all_min"
   ]
  },
  {
   "cell_type": "code",
   "execution_count": null,
   "metadata": {},
   "outputs": [],
   "source": []
  }
 ],
 "metadata": {
  "kernelspec": {
   "display_name": "Python 3",
   "language": "python",
   "name": "python3"
  },
  "language_info": {
   "codemirror_mode": {
    "name": "ipython",
    "version": 3
   },
   "file_extension": ".py",
   "mimetype": "text/x-python",
   "name": "python",
   "nbconvert_exporter": "python",
   "pygments_lexer": "ipython3",
   "version": "3.7.3"
  }
 },
 "nbformat": 4,
 "nbformat_minor": 4
}
